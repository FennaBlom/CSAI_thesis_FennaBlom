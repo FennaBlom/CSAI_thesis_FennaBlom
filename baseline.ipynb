{
 "cells": [
  {
   "cell_type": "code",
   "execution_count": 1,
   "metadata": {},
   "outputs": [],
   "source": [
    "import pandas as pd\n",
    "import numpy as np\n",
    "from nltk.tokenize import word_tokenize\n",
    "from nltk import pos_tag\n",
    "from nltk.corpus import stopwords\n",
    "from nltk.stem import WordNetLemmatizer\n",
    "from sklearn.preprocessing import LabelEncoder\n",
    "from collections import defaultdict\n",
    "from nltk.corpus import wordnet as wn\n",
    "from sklearn.feature_extraction.text import TfidfVectorizer\n",
    "from sklearn import model_selection, naive_bayes, svm\n",
    "from sklearn.metrics import accuracy_score\n",
    "from sklearn.metrics import classification_report\n",
    "from sklearn.metrics import confusion_matrix\n",
    "import matplotlib.pyplot as plt\n",
    "import seaborn as sns"
   ]
  },
  {
   "cell_type": "code",
   "execution_count": 2,
   "metadata": {},
   "outputs": [
    {
     "name": "stderr",
     "output_type": "stream",
     "text": [
      "C:\\Users\\blomfam\\AppData\\Local\\Temp\\ipykernel_20276\\2772293433.py:2: UserWarning: Could not infer format, so each element will be parsed individually, falling back to `dateutil`. To ensure parsing is consistent and as-expected, please specify a format.\n",
      "  df_train = pd.read_csv(url_train,index_col=0,parse_dates=[0],on_bad_lines='skip')\n",
      "C:\\Users\\blomfam\\AppData\\Local\\Temp\\ipykernel_20276\\2772293433.py:4: UserWarning: Could not infer format, so each element will be parsed individually, falling back to `dateutil`. To ensure parsing is consistent and as-expected, please specify a format.\n",
      "  df_test = pd.read_csv(url_test,index_col=0,parse_dates=[0],on_bad_lines='skip')\n"
     ]
    }
   ],
   "source": [
    "url_train = 'https://raw.githubusercontent.com/sebischair/Medical-Abstracts-TC-Corpus/main/medical_tc_train.csv'\n",
    "df_train = pd.read_csv(url_train,index_col=0,parse_dates=[0],on_bad_lines='skip')\n",
    "url_test = 'https://raw.githubusercontent.com/sebischair/Medical-Abstracts-TC-Corpus/main/medical_tc_test.csv'\n",
    "df_test = pd.read_csv(url_test,index_col=0,parse_dates=[0],on_bad_lines='skip')\n"
   ]
  },
  {
   "cell_type": "code",
   "execution_count": 3,
   "metadata": {},
   "outputs": [
    {
     "data": {
      "text/plain": [
       "2887"
      ]
     },
     "execution_count": 3,
     "metadata": {},
     "output_type": "execute_result"
    }
   ],
   "source": [
    "pred = \"1 0 0 1 0 1 4 0 3 4 2 3 1 3 3 0 2 0 2 2 3 4 4 4 3 2 2 1 3 0 1 2 3 2 2 3 0 3 2 4 3 3 4 4 2 1 0 0 2 0 1 0 1 3 1 3 3 3 4 0 3 0 3 3 2 4 2 1 2 3 3 1 4 4 3 0 0 0 3 0 1 3 2 3 4 3 3 3 2 2 3 2 4 0 0 2 0 0 1 3 2 1 4 4 2 0 0 0 1 3 4 2 3 3 2 4 3 0 4 3 2 0 2 3 0 2 2 0 2 0 3 2 3 3 2 3 4 0 2 0 0 4 3 0 1 0 0 4 3 0 0 1 0 4 0 4 3 2 0 1 2 0 3 3 2 3 0 3 3 4 2 3 3 0 1 1 2 3 4 3 0 3 3 1 4 4 4 3 3 0 4 4 3 3 0 0 0 2 2 2 1 1 0 3 0 1 3 4 1 0 4 0 4 0 3 1 1 1 1 3 3 2 4 0 2 1 0 2 2 3 3 4 2 4 3 3 4 3 1 3 0 0 0 4 0 2 1 1 4 0 0 4 0 2 3 0 4 0 0 0 1 1 3 4 0 4 1 3 4 4 4 1 2 4 0 4 4 2 0 2 2 1 4 3 3 0 1 3 3 3 2 0 0 0 2 0 2 3 0 4 3 4 4 4 1 0 3 2 3 2 1 4 4 2 4 1 2 4 4 1 0 2 1 3 0 3 2 1 4 3 4 0 4 0 4 0 4 3 3 0 3 4 0 0 2 1 1 1 1 3 2 1 0 1 3 0 4 2 0 0 4 4 3 0 1 2 4 0 2 2 3 1 0 2 3 3 0 1 0 0 0 2 3 0 0 4 4 3 2 0 4 4 2 4 0 2 2 2 4 2 0 4 3 4 3 4 0 3 2 0 3 2 3 3 3 3 3 3 4 2 4 0 2 0 0 3 1 3 2 3 0 3 2 0 3 4 3 3 3 3 2 4 3 0 4 3 0 1 2 0 3 2 0 1 4 4 0 0 3 3 0 0 0 0 4 0 3 4 3 4 0 2 1 3 4 1 2 0 0 4 4 3 2 0 4 0 0 3 2 3 1 3 2 2 0 4 3 2 0 3 4 2 0 2 0 1 0 2 4 3 0 0 4 0 1 0 1 4 2 2 2 3 0 4 0 3 0 1 0 1 0 0 0 0 3 1 4 3 0 0 2 4 3 0 3 3 3 0 3 3 3 3 1 4 4 1 3 4 3 0 4 0 3 2 0 0 4 0 3 2 1 0 4 3 1 0 2 3 2 4 4 0 0 2 3 0 0 4 0 3 0 4 4 0 0 2 0 4 1 3 3 1 0 1 0 3 2 3 4 3 3 3 2 4 0 0 2 4 0 4 4 1 4 1 0 4 4 0 4 1 3 4 3 3 3 0 4 4 3 2 4 4 1 4 4 4 3 3 3 1 3 0 2 1 2 0 3 1 4 2 3 4 0 0 3 0 3 0 4 0 3 3 0 3 3 3 3 3 3 0 4 0 3 2 4 3 4 0 4 3 1 2 4 1 4 3 4 2 2 4 4 4 4 1 3 4 1 0 1 3 0 1 0 0 0 2 1 2 0 1 3 4 3 4 3 2 3 4 4 0 4 0 0 0 2 1 2 3 0 2 0 0 4 3 3 3 3 4 3 3 1 4 2 1 3 3 0 1 2 0 3 4 3 4 3 0 1 1 1 0 3 2 3 4 1 1 4 1 3 0 4 2 4 0 1 0 0 0 2 1 0 2 3 4 0 1 3 0 2 0 1 3 2 0 3 3 0 3 2 4 0 1 0 3 4 3 1 3 3 4 3 4 0 0 4 0 0 0 0 2 0 4 1 3 2 0 0 3 4 1 2 1 2 0 2 2 1 0 3 2 3 2 4 2 0 0 3 3 0 3 0 0 3 4 0 3 3 4 2 0 2 3 0 1 2 2 4 3 3 3 3 3 1 3 4 1 4 2 3 4 3 0 3 4 0 3 3 2 0 4 0 3 3 2 1 1 0 0 2 3 3 0 1 4 0 0 4 4 0 0 0 1 3 3 3 4 0 0 3 0 0 1 3 0 0 2 3 4 4 0 1 1 1 0 3 2 3 4 0 3 0 4 1 0 3 4 2 4 3 4 0 0 1 0 0 4 4 4 0 2 0 2 1 1 4 1 4 0 4 0 4 3 3 1 4 0 3 0 3 0 1 4 4 4 0 3 1 1 0 0 3 0 0 3 4 0 4 3 2 3 1 4 1 0 2 2 0 3 4 1 3 4 0 0 4 0 3 4 3 3 0 0 2 1 3 0 4 1 3 0 3 0 2 1 3 2 3 0 4 4 3 0 1 0 3 2 3 2 1 3 3 0 0 0 3 0 0 3 3 3 2 0 3 4 3 3 3 3 2 2 0 4 2 0 4 3 4 0 4 1 2 0 3 0 3 3 1 0 0 2 1 0 3 0 0 3 0 1 3 1 1 4 4 3 2 3 2 1 0 0 0 0 1 0 3 2 2 0 2 4 3 3 0 2 2 4 4 3 0 1 4 2 4 2 1 4 4 2 3 3 2 3 0 3 0 3 3 3 3 2 0 4 1 0 3 3 3 0 0 4 1 2 0 0 0 0 0 3 4 1 3 1 1 1 4 0 1 0 4 4 3 4 2 0 1 3 3 2 0 3 2 1 0 1 2 3 0 3 3 2 0 0 0 4 4 0 3 3 4 0 4 0 1 2 3 0 3 0 3 4 3 4 4 4 1 0 4 3 0 4 0 0 1 2 1 2 3 1 1 1 2 3 0 4 4 3 4 4 2 3 3 3 4 0 4 4 4 2 1 0 3 0 4 3 3 4 3 3 4 4 1 2 0 4 3 4 4 0 3 0 4 0 3 0 0 3 4 1 4 1 3 1 1 3 4 3 1 4 3 0 3 2 4 2 4 3 0 3 0 4 4 3 3 0 4 4 3 3 2 1 4 4 3 3 3 3 2 3 4 1 0 4 0 4 3 2 4 4 0 3 3 0 3 4 0 2 3 3 4 3 2 3 2 2 4 3 3 2 2 3 4 4 1 0 2 4 3 0 3 3 0 2 2 3 3 1 2 3 0 0 4 4 3 3 3 0 1 3 4 1 1 3 2 1 0 4 0 4 4 4 0 1 0 3 4 4 3 3 1 3 3 0 3 0 1 0 1 1 4 0 0 2 4 2 3 3 1 0 2 4 4 3 1 1\"\n",
    "len(pred)"
   ]
  },
  {
   "cell_type": "code",
   "execution_count": 4,
   "metadata": {},
   "outputs": [],
   "source": [
    "true = \"1 0 0 1 0 1 2 0 3 4 2 3 1 3 3 0 2 0 2 2 3 4 4 4 4 2 4 4 4 0 1 2 3 2 2 4 0 3 2 3 3 4 4 4 3 1 0 0 4 0 1 1 1 3 1 3 3 2 4 4 3 0 3 3 2 3 2 1 4 3 3 4 4 4 4 0 0 0 3 0 1 4 4 3 3 3 3 3 2 2 4 0 2 0 4 4 0 0 4 3 2 1 0 0 2 0 1 0 4 4 2 2 3 3 2 0 4 3 4 3 2 0 0 3 0 2 4 0 0 0 3 2 4 3 2 4 2 0 4 4 0 4 3 0 1 0 4 4 3 0 2 4 0 4 4 4 3 2 0 4 2 0 3 4 2 4 0 0 3 4 4 3 4 4 1 1 3 3 4 3 0 3 3 4 4 4 4 4 3 0 4 4 3 3 0 0 0 2 2 4 1 1 0 4 0 1 4 4 4 4 4 4 4 0 3 1 4 1 3 3 3 2 4 0 4 4 4 2 0 3 4 4 2 4 3 3 4 3 2 3 0 0 0 4 0 2 4 1 2 0 4 0 4 2 3 0 2 4 0 0 4 1 4 4 2 4 4 3 4 4 4 4 2 1 4 4 1 4 0 2 2 4 4 3 3 4 4 4 3 3 2 0 0 4 4 0 3 4 0 4 3 4 4 2 4 1 3 2 4 2 4 4 4 2 2 4 4 4 3 4 0 4 1 4 4 3 2 0 1 3 4 1 4 4 4 4 0 3 3 4 3 1 4 4 2 1 4 3 4 4 2 1 0 3 3 0 4 2 0 0 1 4 4 0 1 2 2 0 2 2 4 4 0 4 3 3 4 1 4 0 0 2 4 0 4 2 3 3 0 0 4 3 2 3 0 4 2 2 1 2 0 0 4 3 4 0 0 4 3 4 3 3 3 3 4 4 3 3 0 2 2 0 2 0 0 3 4 3 4 3 0 3 2 0 3 4 3 2 3 3 2 4 3 4 4 4 0 1 2 0 4 2 0 1 4 4 0 0 3 3 0 0 0 0 4 0 4 4 3 4 0 2 4 4 4 0 2 4 0 4 4 3 2 0 3 0 0 3 4 3 4 3 2 2 0 2 3 2 0 4 2 4 0 3 4 1 0 4 4 3 0 0 4 4 1 4 2 1 2 2 4 2 0 4 4 3 0 1 1 1 0 0 3 1 3 1 4 3 0 4 2 3 3 0 3 4 3 0 3 3 4 4 2 4 0 1 3 4 1 1 3 0 4 2 2 0 4 0 3 2 1 0 4 3 2 4 2 4 2 4 3 0 1 2 4 0 0 4 0 2 0 4 4 0 0 2 0 1 2 3 3 0 0 4 0 4 4 4 1 4 3 3 4 4 2 0 4 0 0 4 3 1 4 0 0 4 4 1 0 4 3 0 3 3 3 0 1 4 4 2 4 4 1 1 4 4 4 4 1 4 3 0 0 1 2 0 4 1 4 2 3 4 0 0 3 1 4 0 2 0 3 3 1 3 4 3 3 3 4 4 1 0 3 2 0 3 4 0 4 2 1 3 4 1 4 3 4 2 2 4 4 4 4 1 3 4 1 4 1 4 0 1 0 0 4 2 4 2 4 1 4 4 2 0 3 2 0 4 4 0 4 0 4 4 4 4 2 3 0 3 0 4 4 3 3 3 3 0 3 3 4 4 2 4 3 4 0 1 2 0 3 4 0 4 4 0 4 1 1 0 4 2 4 4 4 1 1 1 3 0 4 4 4 4 1 0 4 1 2 1 0 2 3 3 0 1 3 0 2 0 1 4 2 0 3 4 0 3 2 3 4 0 0 3 1 3 1 3 3 1 3 4 0 0 2 0 4 0 4 2 0 4 4 3 2 0 0 4 2 4 4 1 4 0 0 2 1 0 3 2 4 4 4 4 0 4 3 3 0 3 0 0 3 3 2 4 4 4 4 0 2 4 0 1 2 2 4 3 3 3 0 3 1 3 4 1 4 2 4 4 3 0 3 4 4 3 3 4 0 2 4 4 4 2 1 1 0 0 2 3 4 0 1 4 2 0 4 4 0 0 4 1 3 4 3 4 0 0 3 0 4 1 2 4 0 2 3 2 2 0 4 1 1 0 3 2 3 4 4 3 0 4 4 2 3 4 2 4 3 2 0 0 1 0 4 2 4 4 4 2 0 2 4 1 4 1 4 0 4 0 4 3 3 1 2 0 4 0 4 0 4 4 3 4 0 3 4 1 3 0 3 0 0 3 4 0 4 3 4 4 3 1 1 0 2 2 0 3 2 1 3 0 0 1 4 0 3 0 3 4 0 4 2 4 3 1 1 4 3 0 3 4 2 1 4 2 2 2 4 4 3 0 1 0 4 2 3 2 4 4 4 0 0 0 3 0 0 3 3 3 4 0 3 4 3 3 4 3 3 2 4 4 2 0 4 3 4 0 4 0 2 0 3 4 4 3 4 0 0 2 1 0 3 0 2 0 4 4 3 4 1 4 2 4 4 3 2 4 0 0 0 0 4 0 3 2 2 0 4 4 3 4 0 2 2 0 2 3 0 0 4 2 4 2 4 4 1 4 3 3 4 3 0 4 0 3 4 3 1 2 3 1 2 0 3 3 3 0 4 0 1 4 0 2 2 4 0 3 4 4 3 4 0 1 4 0 1 0 1 4 3 4 0 2 1 2 4 2 0 2 2 1 0 1 4 3 0 3 3 2 0 0 4 4 2 0 3 4 1 0 3 3 1 2 3 0 4 0 4 4 4 0 4 4 4 0 4 3 4 4 4 4 4 4 4 4 4 1 4 1 2 3 0 3 0 3 3 4 2 4 3 1 4 4 4 4 3 2 3 4 4 1 3 3 3 3 3 4 0 4 4 2 0 4 4 4 0 1 4 4 1 4 4 4 0 4 4 1 4 1 4 4 1 4 2 4 1 4 3 4 3 4 3 4 1 3 0 4 4 4 4 3 3 0 4 4 3 3 4 1 0 3 4 1 4 3 2 3 2 4 2 4 4 4 3 2 3 4 1 3 3 0 3 4 2 2 3 3 1 3 0 0 2 4 4 3 3 3 4 3 3 4 1 0 4 4 3 3 3 3 0 2 3 3 4 4 2 3 0 0 4 4 3 3 3 0 1 3 4 4 1 4 2 3 0 4 0 0 4 3 0 4 0 4 4 2 3 3 0 4 3 0 3 0 1 0 0 1 4 0 0 0 4 0 3 3 4 4 2 2 4 3 0 1\"\n"
   ]
  },
  {
   "cell_type": "code",
   "execution_count": 15,
   "metadata": {},
   "outputs": [],
   "source": [
    "import random\n",
    "baseline_preds = []\n",
    "for i in range(10):\n",
    "    base = []\n",
    "    for n in range(len(true)):\n",
    "        base.append(str(random.randint(0,4)))\n",
    "    baseline_preds.append(base)\n"
   ]
  },
  {
   "cell_type": "code",
   "execution_count": 9,
   "metadata": {},
   "outputs": [],
   "source": [
    "len(baseline_preds[0])\n",
    "true = [x for x in true if x != \" \"]\n"
   ]
  },
  {
   "cell_type": "code",
   "execution_count": 17,
   "metadata": {},
   "outputs": [],
   "source": [
    "from sklearn.metrics import make_scorer, accuracy_score, f1_score\n",
    "accuracys = []\n",
    "f1s = []\n",
    "for pred in baseline_preds:\n",
    "    accuracys.append(accuracy_score(true, pred))\n",
    "    f1s.append(f1_score(true, pred, average='weighted'))"
   ]
  },
  {
   "cell_type": "code",
   "execution_count": 21,
   "metadata": {},
   "outputs": [],
   "source": [
    "avg_acc = np.mean(accuracys)\n",
    "std_acc = np.std(accuracys)\n",
    "avg_f1 = np.mean(f1s)\n",
    "std_f1 = np.std(f1s)"
   ]
  },
  {
   "cell_type": "code",
   "execution_count": 22,
   "metadata": {},
   "outputs": [
    {
     "name": "stdout",
     "output_type": "stream",
     "text": [
      "0.20235457063711912 0.006011782386207952 0.20936115881727407 0.006337097237670311\n"
     ]
    }
   ],
   "source": [
    "print(avg_acc, std_acc, avg_f1, std_f1)"
   ]
  }
 ],
 "metadata": {
  "kernelspec": {
   "display_name": "venv",
   "language": "python",
   "name": "python3"
  },
  "language_info": {
   "codemirror_mode": {
    "name": "ipython",
    "version": 3
   },
   "file_extension": ".py",
   "mimetype": "text/x-python",
   "name": "python",
   "nbconvert_exporter": "python",
   "pygments_lexer": "ipython3",
   "version": "3.9.2"
  },
  "orig_nbformat": 4
 },
 "nbformat": 4,
 "nbformat_minor": 2
}
